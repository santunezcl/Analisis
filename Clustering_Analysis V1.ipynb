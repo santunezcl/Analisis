{
 "cells": [
  {
   "cell_type": "markdown",
   "metadata": {
    "id": "_evgDawbmXjU"
   },
   "source": [
    "# **IMPORT Librerias**"
   ]
  },
  {
   "cell_type": "code",
   "execution_count": 1,
   "metadata": {
    "executionInfo": {
     "elapsed": 2691,
     "status": "ok",
     "timestamp": 1701627132118,
     "user": {
      "displayName": "Nouman Irshad",
      "userId": "01147828697351460386"
     },
     "user_tz": 480
    },
    "id": "1Q_QrfBEPFqi"
   },
   "outputs": [],
   "source": [
    "import pandas as pd\n",
    "import os\n",
    "from sklearn.decomposition import PCA\n",
    "from sklearn.cluster import KMeans\n",
    "from sklearn.metrics import silhouette_score\n",
    "from sklearn.preprocessing import LabelEncoder\n",
    "from sklearn.preprocessing import StandardScaler\n",
    "import matplotlib.pyplot as plt\n",
    "import seaborn as sns"
   ]
  },
  {
   "cell_type": "code",
   "execution_count": 2,
   "metadata": {
    "colab": {
     "base_uri": "https://localhost:8080/"
    },
    "executionInfo": {
     "elapsed": 36606,
     "status": "ok",
     "timestamp": 1701627168718,
     "user": {
      "displayName": "Nouman Irshad",
      "userId": "01147828697351460386"
     },
     "user_tz": 480
    },
    "id": "KdbbTotGPVdE",
    "outputId": "ccad2634-36ba-4d6e-ea43-0952464d9c84"
   },
   "outputs": [],
   "source": [
    "file_path = \"PDT_2022_PUB_MRUN.csv\""
   ]
  },
  {
   "cell_type": "code",
   "execution_count": 3,
   "metadata": {
    "colab": {
     "base_uri": "https://localhost:8080/"
    },
    "executionInfo": {
     "elapsed": 4397,
     "status": "ok",
     "timestamp": 1701627173107,
     "user": {
      "displayName": "Nouman Irshad",
      "userId": "01147828697351460386"
     },
     "user_tz": 480
    },
    "id": "FX5YjZ4sPVgQ",
    "outputId": "ae647840-fe76-447c-c474-fe6f3f33cc1d"
   },
   "outputs": [
    {
     "name": "stdout",
     "output_type": "stream",
     "text": [
      "Successfully read the file using encoding: latin-1\n"
     ]
    },
    {
     "name": "stderr",
     "output_type": "stream",
     "text": [
      "C:\\Users\\Sebastian Antunez N\\AppData\\Local\\Programs\\Python\\Python311\\Lib\\site-packages\\IPython\\core\\interactiveshell.py:3505: DtypeWarning: Columns (34,36) have mixed types.Specify dtype option on import or set low_memory=False.\n",
      "  exec(code_obj, self.user_global_ns, self.user_ns)\n"
     ]
    }
   ],
   "source": [
    "# Lectura del Archivo CSV\n",
    "encodings_to_try = ['latin-1', 'ISO-8859-1']\n",
    "\n",
    "for encoding in encodings_to_try:\n",
    "    try:\n",
    "        data = pd.read_csv(file_path, encoding=encoding)\n",
    "        print(f\"Successfully read the file using encoding: {encoding}\")\n",
    "        break  # Si la lectura es exitosa, prosigue\n",
    "    except UnicodeDecodeError:\n",
    "        print(f\"Failed to read the file using encoding: {encoding}\")\n"
   ]
  },
  {
   "cell_type": "markdown",
   "metadata": {
    "id": "hl77wmhpmmHE"
   },
   "source": [
    "## **2. Preprocesamiento de datos:**"
   ]
  },
  {
   "cell_type": "markdown",
   "metadata": {
    "id": "UrK7gXlpmrKO"
   },
   "source": [
    "**Columnas Importantes**"
   ]
  },
  {
   "cell_type": "code",
   "execution_count": 4,
   "metadata": {
    "executionInfo": {
     "elapsed": 14,
     "status": "ok",
     "timestamp": 1701627173108,
     "user": {
      "displayName": "Nouman Irshad",
      "userId": "01147828697351460386"
     },
     "user_tz": 480
    },
    "id": "qqCDWLzaPVjS"
   },
   "outputs": [],
   "source": [
    "df = data[['SEXO', 'EDUCACION_MADRE', 'COMPLETO_EDUCACION_MADRE', 'EDUCACION_PADRE', 'COMPLETO_EDUCACION_PADRE', 'TIENE_TRABAJO_REM', 'OCUPACION_2',\n",
    "           'OCUPACION_3', 'HORARIO_TRABAJO', 'CON_QUIEN_VIVE_1', 'CON_QUIEN_VIVE_2', 'CON_QUIEN_VIVE_3',  'CON_QUIEN_VIVE_5', 'CON_QUIEN_VIVE_6',  'CON_QUIEN_VIVE_7',\n",
    "            'CON_QUIEN_VIVE_8', 'CON_QUIEN_VIVE_9', 'CON_QUIEN_VIVE_10', 'ESTUDIO_INSTITUCION_SUPERIOR', 'TIPO_INSTITUCION', 'INGRESO_PERCAPITA_GRUPO_FA',\n",
    "            'HOGAR_CONEXION_INTERNET', 'CONEXION_INSUFICIENTE', 'TITULACION_CARRERA', 'ECONOMICAMENTE', 'PERSONAS_ESTUDIAN_SUP', 'DISPOSITIVO_1', 'USO_DISPOSITIVO_3']]"
   ]
  },
  {
   "cell_type": "code",
   "execution_count": 5,
   "metadata": {
    "colab": {
     "base_uri": "https://localhost:8080/"
    },
    "executionInfo": {
     "elapsed": 13,
     "status": "ok",
     "timestamp": 1701627173108,
     "user": {
      "displayName": "Nouman Irshad",
      "userId": "01147828697351460386"
     },
     "user_tz": 480
    },
    "id": "BSpHKkSbPVmA",
    "outputId": "75fb56ad-620b-4f10-ecf3-f472836adfde"
   },
   "outputs": [
    {
     "data": {
      "text/plain": [
       "(285513, 28)"
      ]
     },
     "execution_count": 5,
     "metadata": {},
     "output_type": "execute_result"
    }
   ],
   "source": [
    "df.shape"
   ]
  },
  {
   "cell_type": "markdown",
   "metadata": {
    "id": "dG7BQDvRmuwe"
   },
   "source": [
    "**Eliminacion de valores faltantes**"
   ]
  },
  {
   "cell_type": "code",
   "execution_count": 6,
   "metadata": {
    "colab": {
     "base_uri": "https://localhost:8080/"
    },
    "executionInfo": {
     "elapsed": 9,
     "status": "ok",
     "timestamp": 1701627173108,
     "user": {
      "displayName": "Nouman Irshad",
      "userId": "01147828697351460386"
     },
     "user_tz": 480
    },
    "id": "IG-5F8WBPVpB",
    "outputId": "4c2c5d96-ccf9-4ed1-e537-c234f93afdcd"
   },
   "outputs": [
    {
     "data": {
      "text/plain": [
       "(29626, 28)"
      ]
     },
     "execution_count": 6,
     "metadata": {},
     "output_type": "execute_result"
    }
   ],
   "source": [
    "data = df[df['TITULACION_CARRERA'].str.strip() != '']\n",
    "# data = df\n",
    "data.shape"
   ]
  },
  {
   "cell_type": "code",
   "execution_count": 7,
   "metadata": {
    "colab": {
     "base_uri": "https://localhost:8080/"
    },
    "executionInfo": {
     "elapsed": 20,
     "status": "ok",
     "timestamp": 1701627173825,
     "user": {
      "displayName": "Nouman Irshad",
      "userId": "01147828697351460386"
     },
     "user_tz": 480
    },
    "id": "F88OxK-xPVvj",
    "outputId": "8663b24c-f166-4435-904c-7c0a404b70ef"
   },
   "outputs": [
    {
     "data": {
      "text/plain": [
       "Index(['SEXO', 'EDUCACION_MADRE', 'COMPLETO_EDUCACION_MADRE',\n",
       "       'EDUCACION_PADRE', 'COMPLETO_EDUCACION_PADRE', 'TIENE_TRABAJO_REM',\n",
       "       'OCUPACION_2', 'OCUPACION_3', 'HORARIO_TRABAJO', 'CON_QUIEN_VIVE_1',\n",
       "       'CON_QUIEN_VIVE_2', 'CON_QUIEN_VIVE_3', 'CON_QUIEN_VIVE_5',\n",
       "       'CON_QUIEN_VIVE_6', 'CON_QUIEN_VIVE_7', 'CON_QUIEN_VIVE_8',\n",
       "       'CON_QUIEN_VIVE_9', 'CON_QUIEN_VIVE_10', 'ESTUDIO_INSTITUCION_SUPERIOR',\n",
       "       'TIPO_INSTITUCION', 'INGRESO_PERCAPITA_GRUPO_FA',\n",
       "       'HOGAR_CONEXION_INTERNET', 'CONEXION_INSUFICIENTE',\n",
       "       'TITULACION_CARRERA', 'ECONOMICAMENTE', 'PERSONAS_ESTUDIAN_SUP',\n",
       "       'DISPOSITIVO_1', 'USO_DISPOSITIVO_3'],\n",
       "      dtype='object')"
      ]
     },
     "execution_count": 7,
     "metadata": {},
     "output_type": "execute_result"
    }
   ],
   "source": [
    "# Columnas de nuestra fuente de datos\n",
    "df.columns"
   ]
  },
  {
   "cell_type": "markdown",
   "metadata": {
    "id": "mlteiwidm9Ic"
   },
   "source": [
    "# **3. Ingenieria de Funciones:**"
   ]
  },
  {
   "cell_type": "code",
   "execution_count": 8,
   "metadata": {
    "colab": {
     "base_uri": "https://localhost:8080/",
     "height": 261
    },
    "executionInfo": {
     "elapsed": 21,
     "status": "ok",
     "timestamp": 1701627173829,
     "user": {
      "displayName": "Nouman Irshad",
      "userId": "01147828697351460386"
     },
     "user_tz": 480
    },
    "id": "k9dR3LBFPVr5",
    "outputId": "a4d5ef5b-9604-4f73-f5ed-d7a47788087e"
   },
   "outputs": [
    {
     "data": {
      "text/html": [
       "<div>\n",
       "<style scoped>\n",
       "    .dataframe tbody tr th:only-of-type {\n",
       "        vertical-align: middle;\n",
       "    }\n",
       "\n",
       "    .dataframe tbody tr th {\n",
       "        vertical-align: top;\n",
       "    }\n",
       "\n",
       "    .dataframe thead th {\n",
       "        text-align: right;\n",
       "    }\n",
       "</style>\n",
       "<table border=\"1\" class=\"dataframe\">\n",
       "  <thead>\n",
       "    <tr style=\"text-align: right;\">\n",
       "      <th></th>\n",
       "      <th>SEXO</th>\n",
       "      <th>TIENE_TRABAJO_REM</th>\n",
       "      <th>HORARIO_TRABAJO</th>\n",
       "      <th>ECONOMICAMENTE</th>\n",
       "      <th>PERSONAS_ESTUDIAN_SUP</th>\n",
       "    </tr>\n",
       "  </thead>\n",
       "  <tbody>\n",
       "    <tr>\n",
       "      <th>SEXO</th>\n",
       "      <td>1.000000</td>\n",
       "      <td>-0.047913</td>\n",
       "      <td>0.039621</td>\n",
       "      <td>-0.031533</td>\n",
       "      <td>-0.047966</td>\n",
       "    </tr>\n",
       "    <tr>\n",
       "      <th>TIENE_TRABAJO_REM</th>\n",
       "      <td>-0.047913</td>\n",
       "      <td>1.000000</td>\n",
       "      <td>-0.156470</td>\n",
       "      <td>0.352436</td>\n",
       "      <td>0.251319</td>\n",
       "    </tr>\n",
       "    <tr>\n",
       "      <th>HORARIO_TRABAJO</th>\n",
       "      <td>0.039621</td>\n",
       "      <td>-0.156470</td>\n",
       "      <td>1.000000</td>\n",
       "      <td>-0.122268</td>\n",
       "      <td>0.001098</td>\n",
       "    </tr>\n",
       "    <tr>\n",
       "      <th>ECONOMICAMENTE</th>\n",
       "      <td>-0.031533</td>\n",
       "      <td>0.352436</td>\n",
       "      <td>-0.122268</td>\n",
       "      <td>1.000000</td>\n",
       "      <td>0.280600</td>\n",
       "    </tr>\n",
       "    <tr>\n",
       "      <th>PERSONAS_ESTUDIAN_SUP</th>\n",
       "      <td>-0.047966</td>\n",
       "      <td>0.251319</td>\n",
       "      <td>0.001098</td>\n",
       "      <td>0.280600</td>\n",
       "      <td>1.000000</td>\n",
       "    </tr>\n",
       "  </tbody>\n",
       "</table>\n",
       "</div>"
      ],
      "text/plain": [
       "                           SEXO  TIENE_TRABAJO_REM  HORARIO_TRABAJO  \\\n",
       "SEXO                   1.000000          -0.047913         0.039621   \n",
       "TIENE_TRABAJO_REM     -0.047913           1.000000        -0.156470   \n",
       "HORARIO_TRABAJO        0.039621          -0.156470         1.000000   \n",
       "ECONOMICAMENTE        -0.031533           0.352436        -0.122268   \n",
       "PERSONAS_ESTUDIAN_SUP -0.047966           0.251319         0.001098   \n",
       "\n",
       "                       ECONOMICAMENTE  PERSONAS_ESTUDIAN_SUP  \n",
       "SEXO                        -0.031533              -0.047966  \n",
       "TIENE_TRABAJO_REM            0.352436               0.251319  \n",
       "HORARIO_TRABAJO             -0.122268               0.001098  \n",
       "ECONOMICAMENTE               1.000000               0.280600  \n",
       "PERSONAS_ESTUDIAN_SUP        0.280600               1.000000  "
      ]
     },
     "execution_count": 8,
     "metadata": {},
     "output_type": "execute_result"
    }
   ],
   "source": [
    "# Correlacion\n",
    "df.corr()"
   ]
  },
  {
   "cell_type": "markdown",
   "metadata": {
    "id": "vQnZEwKInKcE"
   },
   "source": [
    "**Codificacion de variables categóricas**:\n",
    "\n",
    "Convercion de datos categóricos a formato numérico utilizando técnicas como la codificación one-hot o la codificación de etiquetas.\n",
    "\n"
   ]
  },
  {
   "cell_type": "code",
   "execution_count": 9,
   "metadata": {
    "executionInfo": {
     "elapsed": 16,
     "status": "ok",
     "timestamp": 1701627173830,
     "user": {
      "displayName": "Nouman Irshad",
      "userId": "01147828697351460386"
     },
     "user_tz": 480
    },
    "id": "-RDBCDT8PVyq"
   },
   "outputs": [],
   "source": [
    "# Assuming df_data is your DataFrame\n",
    "df_data_encoded = data.copy()\n",
    "\n",
    "# Label Encoding for ordinal columns\n",
    "label_encoder = LabelEncoder()"
   ]
  },
  {
   "cell_type": "code",
   "execution_count": 10,
   "metadata": {
    "colab": {
     "base_uri": "https://localhost:8080/",
     "height": 256
    },
    "executionInfo": {
     "elapsed": 561,
     "status": "ok",
     "timestamp": 1701627174376,
     "user": {
      "displayName": "Nouman Irshad",
      "userId": "01147828697351460386"
     },
     "user_tz": 480
    },
    "id": "jw0Vmee9P2tA",
    "outputId": "513986ff-2a0c-4776-c00d-6f46a83f0bab"
   },
   "outputs": [
    {
     "data": {
      "text/html": [
       "<div>\n",
       "<style scoped>\n",
       "    .dataframe tbody tr th:only-of-type {\n",
       "        vertical-align: middle;\n",
       "    }\n",
       "\n",
       "    .dataframe tbody tr th {\n",
       "        vertical-align: top;\n",
       "    }\n",
       "\n",
       "    .dataframe thead th {\n",
       "        text-align: right;\n",
       "    }\n",
       "</style>\n",
       "<table border=\"1\" class=\"dataframe\">\n",
       "  <thead>\n",
       "    <tr style=\"text-align: right;\">\n",
       "      <th></th>\n",
       "      <th>SEXO</th>\n",
       "      <th>EDUCACION_MADRE</th>\n",
       "      <th>COMPLETO_EDUCACION_MADRE</th>\n",
       "      <th>EDUCACION_PADRE</th>\n",
       "      <th>COMPLETO_EDUCACION_PADRE</th>\n",
       "      <th>TIENE_TRABAJO_REM</th>\n",
       "      <th>OCUPACION_2</th>\n",
       "      <th>OCUPACION_3</th>\n",
       "      <th>HORARIO_TRABAJO</th>\n",
       "      <th>CON_QUIEN_VIVE_1</th>\n",
       "      <th>...</th>\n",
       "      <th>ESTUDIO_INSTITUCION_SUPERIOR</th>\n",
       "      <th>TIPO_INSTITUCION</th>\n",
       "      <th>INGRESO_PERCAPITA_GRUPO_FA</th>\n",
       "      <th>HOGAR_CONEXION_INTERNET</th>\n",
       "      <th>CONEXION_INSUFICIENTE</th>\n",
       "      <th>TITULACION_CARRERA</th>\n",
       "      <th>ECONOMICAMENTE</th>\n",
       "      <th>PERSONAS_ESTUDIAN_SUP</th>\n",
       "      <th>DISPOSITIVO_1</th>\n",
       "      <th>USO_DISPOSITIVO_3</th>\n",
       "    </tr>\n",
       "  </thead>\n",
       "  <tbody>\n",
       "    <tr>\n",
       "      <th>1</th>\n",
       "      <td>0</td>\n",
       "      <td>8</td>\n",
       "      <td>3</td>\n",
       "      <td>10</td>\n",
       "      <td>3</td>\n",
       "      <td>2</td>\n",
       "      <td>0</td>\n",
       "      <td>0</td>\n",
       "      <td>0</td>\n",
       "      <td>0</td>\n",
       "      <td>...</td>\n",
       "      <td>0</td>\n",
       "      <td>2</td>\n",
       "      <td>11</td>\n",
       "      <td>3</td>\n",
       "      <td>2</td>\n",
       "      <td>1</td>\n",
       "      <td>2</td>\n",
       "      <td>0</td>\n",
       "      <td>1</td>\n",
       "      <td>0</td>\n",
       "    </tr>\n",
       "    <tr>\n",
       "      <th>2</th>\n",
       "      <td>0</td>\n",
       "      <td>10</td>\n",
       "      <td>2</td>\n",
       "      <td>8</td>\n",
       "      <td>2</td>\n",
       "      <td>2</td>\n",
       "      <td>0</td>\n",
       "      <td>0</td>\n",
       "      <td>1</td>\n",
       "      <td>0</td>\n",
       "      <td>...</td>\n",
       "      <td>0</td>\n",
       "      <td>2</td>\n",
       "      <td>6</td>\n",
       "      <td>3</td>\n",
       "      <td>1</td>\n",
       "      <td>1</td>\n",
       "      <td>1</td>\n",
       "      <td>1</td>\n",
       "      <td>1</td>\n",
       "      <td>2</td>\n",
       "    </tr>\n",
       "    <tr>\n",
       "      <th>3</th>\n",
       "      <td>0</td>\n",
       "      <td>8</td>\n",
       "      <td>2</td>\n",
       "      <td>8</td>\n",
       "      <td>2</td>\n",
       "      <td>0</td>\n",
       "      <td>0</td>\n",
       "      <td>0</td>\n",
       "      <td>3</td>\n",
       "      <td>0</td>\n",
       "      <td>...</td>\n",
       "      <td>0</td>\n",
       "      <td>0</td>\n",
       "      <td>8</td>\n",
       "      <td>3</td>\n",
       "      <td>2</td>\n",
       "      <td>1</td>\n",
       "      <td>2</td>\n",
       "      <td>1</td>\n",
       "      <td>1</td>\n",
       "      <td>0</td>\n",
       "    </tr>\n",
       "    <tr>\n",
       "      <th>6</th>\n",
       "      <td>1</td>\n",
       "      <td>10</td>\n",
       "      <td>3</td>\n",
       "      <td>2</td>\n",
       "      <td>3</td>\n",
       "      <td>0</td>\n",
       "      <td>0</td>\n",
       "      <td>0</td>\n",
       "      <td>3</td>\n",
       "      <td>0</td>\n",
       "      <td>...</td>\n",
       "      <td>0</td>\n",
       "      <td>2</td>\n",
       "      <td>5</td>\n",
       "      <td>3</td>\n",
       "      <td>4</td>\n",
       "      <td>2</td>\n",
       "      <td>2</td>\n",
       "      <td>1</td>\n",
       "      <td>1</td>\n",
       "      <td>2</td>\n",
       "    </tr>\n",
       "    <tr>\n",
       "      <th>7</th>\n",
       "      <td>0</td>\n",
       "      <td>2</td>\n",
       "      <td>3</td>\n",
       "      <td>2</td>\n",
       "      <td>3</td>\n",
       "      <td>1</td>\n",
       "      <td>0</td>\n",
       "      <td>0</td>\n",
       "      <td>0</td>\n",
       "      <td>0</td>\n",
       "      <td>...</td>\n",
       "      <td>0</td>\n",
       "      <td>2</td>\n",
       "      <td>5</td>\n",
       "      <td>3</td>\n",
       "      <td>6</td>\n",
       "      <td>2</td>\n",
       "      <td>1</td>\n",
       "      <td>5</td>\n",
       "      <td>1</td>\n",
       "      <td>4</td>\n",
       "    </tr>\n",
       "  </tbody>\n",
       "</table>\n",
       "<p>5 rows × 28 columns</p>\n",
       "</div>"
      ],
      "text/plain": [
       "   SEXO  EDUCACION_MADRE  COMPLETO_EDUCACION_MADRE  EDUCACION_PADRE  \\\n",
       "1     0                8                         3               10   \n",
       "2     0               10                         2                8   \n",
       "3     0                8                         2                8   \n",
       "6     1               10                         3                2   \n",
       "7     0                2                         3                2   \n",
       "\n",
       "   COMPLETO_EDUCACION_PADRE  TIENE_TRABAJO_REM  OCUPACION_2  OCUPACION_3  \\\n",
       "1                         3                  2            0            0   \n",
       "2                         2                  2            0            0   \n",
       "3                         2                  0            0            0   \n",
       "6                         3                  0            0            0   \n",
       "7                         3                  1            0            0   \n",
       "\n",
       "   HORARIO_TRABAJO  CON_QUIEN_VIVE_1  ...  ESTUDIO_INSTITUCION_SUPERIOR  \\\n",
       "1                0                 0  ...                             0   \n",
       "2                1                 0  ...                             0   \n",
       "3                3                 0  ...                             0   \n",
       "6                3                 0  ...                             0   \n",
       "7                0                 0  ...                             0   \n",
       "\n",
       "   TIPO_INSTITUCION  INGRESO_PERCAPITA_GRUPO_FA  HOGAR_CONEXION_INTERNET  \\\n",
       "1                 2                          11                        3   \n",
       "2                 2                           6                        3   \n",
       "3                 0                           8                        3   \n",
       "6                 2                           5                        3   \n",
       "7                 2                           5                        3   \n",
       "\n",
       "   CONEXION_INSUFICIENTE  TITULACION_CARRERA  ECONOMICAMENTE  \\\n",
       "1                      2                   1               2   \n",
       "2                      1                   1               1   \n",
       "3                      2                   1               2   \n",
       "6                      4                   2               2   \n",
       "7                      6                   2               1   \n",
       "\n",
       "   PERSONAS_ESTUDIAN_SUP  DISPOSITIVO_1  USO_DISPOSITIVO_3  \n",
       "1                      0              1                  0  \n",
       "2                      1              1                  2  \n",
       "3                      1              1                  0  \n",
       "6                      1              1                  2  \n",
       "7                      5              1                  4  \n",
       "\n",
       "[5 rows x 28 columns]"
      ]
     },
     "execution_count": 10,
     "metadata": {},
     "output_type": "execute_result"
    }
   ],
   "source": [
    "for col in data.columns:\n",
    "    df_data_encoded[col] = label_encoder.fit_transform(data[col].astype(str))\n",
    "\n",
    "# Display the DataFrame after Label Encoding\n",
    "df_data_encoded.head()"
   ]
  },
  {
   "cell_type": "code",
   "execution_count": 11,
   "metadata": {
    "colab": {
     "base_uri": "https://localhost:8080/"
    },
    "executionInfo": {
     "elapsed": 40,
     "status": "ok",
     "timestamp": 1701627174376,
     "user": {
      "displayName": "Nouman Irshad",
      "userId": "01147828697351460386"
     },
     "user_tz": 480
    },
    "id": "vN2HFL_lP2yy",
    "outputId": "de968d6e-5a16-494f-8f4b-117f2bba0c67"
   },
   "outputs": [
    {
     "data": {
      "text/plain": [
       "SEXO                            0\n",
       "EDUCACION_MADRE                 0\n",
       "COMPLETO_EDUCACION_MADRE        0\n",
       "EDUCACION_PADRE                 0\n",
       "COMPLETO_EDUCACION_PADRE        0\n",
       "TIENE_TRABAJO_REM               0\n",
       "OCUPACION_2                     0\n",
       "OCUPACION_3                     0\n",
       "HORARIO_TRABAJO                 0\n",
       "CON_QUIEN_VIVE_1                0\n",
       "CON_QUIEN_VIVE_2                0\n",
       "CON_QUIEN_VIVE_3                0\n",
       "CON_QUIEN_VIVE_5                0\n",
       "CON_QUIEN_VIVE_6                0\n",
       "CON_QUIEN_VIVE_7                0\n",
       "CON_QUIEN_VIVE_8                0\n",
       "CON_QUIEN_VIVE_9                0\n",
       "CON_QUIEN_VIVE_10               0\n",
       "ESTUDIO_INSTITUCION_SUPERIOR    0\n",
       "TIPO_INSTITUCION                0\n",
       "INGRESO_PERCAPITA_GRUPO_FA      0\n",
       "HOGAR_CONEXION_INTERNET         0\n",
       "CONEXION_INSUFICIENTE           0\n",
       "TITULACION_CARRERA              0\n",
       "ECONOMICAMENTE                  0\n",
       "PERSONAS_ESTUDIAN_SUP           0\n",
       "DISPOSITIVO_1                   0\n",
       "USO_DISPOSITIVO_3               0\n",
       "dtype: int64"
      ]
     },
     "execution_count": 11,
     "metadata": {},
     "output_type": "execute_result"
    }
   ],
   "source": [
    "# Separate features from the dataset\n",
    "X = df_data_encoded[df_data_encoded.columns]\n",
    "X.fillna(0, inplace=True)\n",
    "X.isnull().sum()"
   ]
  },
  {
   "cell_type": "code",
   "execution_count": 12,
   "metadata": {
    "colab": {
     "base_uri": "https://localhost:8080/"
    },
    "executionInfo": {
     "elapsed": 38,
     "status": "ok",
     "timestamp": 1701627174377,
     "user": {
      "displayName": "Nouman Irshad",
      "userId": "01147828697351460386"
     },
     "user_tz": 480
    },
    "id": "QRfIinrrP2v6",
    "outputId": "d45cefb6-e6ca-4154-c8e7-2d888003ba33"
   },
   "outputs": [
    {
     "data": {
      "text/plain": [
       "28"
      ]
     },
     "execution_count": 12,
     "metadata": {},
     "output_type": "execute_result"
    }
   ],
   "source": [
    "# Extract numerical columns\n",
    "numerical_columns = X.select_dtypes(include=['int']).columns\n",
    "len(numerical_columns)"
   ]
  },
  {
   "cell_type": "markdown",
   "metadata": {
    "id": "DjWJvU9enSUI"
   },
   "source": [
    "**Estandarizacion**\n",
    "\n",
    "Estandarice los datos numéricos para garantizar que todas las funciones contribuyan por igual."
   ]
  },
  {
   "cell_type": "code",
   "execution_count": 13,
   "metadata": {
    "colab": {
     "base_uri": "https://localhost:8080/",
     "height": 256
    },
    "executionInfo": {
     "elapsed": 36,
     "status": "ok",
     "timestamp": 1701627174378,
     "user": {
      "displayName": "Nouman Irshad",
      "userId": "01147828697351460386"
     },
     "user_tz": 480
    },
    "id": "5P6rdcvNP24-",
    "outputId": "a99ce42e-8e26-443f-d931-a76e2fa1f430"
   },
   "outputs": [
    {
     "data": {
      "text/html": [
       "<div>\n",
       "<style scoped>\n",
       "    .dataframe tbody tr th:only-of-type {\n",
       "        vertical-align: middle;\n",
       "    }\n",
       "\n",
       "    .dataframe tbody tr th {\n",
       "        vertical-align: top;\n",
       "    }\n",
       "\n",
       "    .dataframe thead th {\n",
       "        text-align: right;\n",
       "    }\n",
       "</style>\n",
       "<table border=\"1\" class=\"dataframe\">\n",
       "  <thead>\n",
       "    <tr style=\"text-align: right;\">\n",
       "      <th></th>\n",
       "      <th>SEXO</th>\n",
       "      <th>EDUCACION_MADRE</th>\n",
       "      <th>COMPLETO_EDUCACION_MADRE</th>\n",
       "      <th>EDUCACION_PADRE</th>\n",
       "      <th>COMPLETO_EDUCACION_PADRE</th>\n",
       "      <th>TIENE_TRABAJO_REM</th>\n",
       "      <th>OCUPACION_2</th>\n",
       "      <th>OCUPACION_3</th>\n",
       "      <th>HORARIO_TRABAJO</th>\n",
       "      <th>CON_QUIEN_VIVE_1</th>\n",
       "      <th>...</th>\n",
       "      <th>ESTUDIO_INSTITUCION_SUPERIOR</th>\n",
       "      <th>TIPO_INSTITUCION</th>\n",
       "      <th>INGRESO_PERCAPITA_GRUPO_FA</th>\n",
       "      <th>HOGAR_CONEXION_INTERNET</th>\n",
       "      <th>CONEXION_INSUFICIENTE</th>\n",
       "      <th>TITULACION_CARRERA</th>\n",
       "      <th>ECONOMICAMENTE</th>\n",
       "      <th>PERSONAS_ESTUDIAN_SUP</th>\n",
       "      <th>DISPOSITIVO_1</th>\n",
       "      <th>USO_DISPOSITIVO_3</th>\n",
       "    </tr>\n",
       "  </thead>\n",
       "  <tbody>\n",
       "    <tr>\n",
       "      <th>1</th>\n",
       "      <td>-1.118425</td>\n",
       "      <td>0.139188</td>\n",
       "      <td>0.524149</td>\n",
       "      <td>0.717474</td>\n",
       "      <td>0.713694</td>\n",
       "      <td>1.196638</td>\n",
       "      <td>-0.367435</td>\n",
       "      <td>-0.571296</td>\n",
       "      <td>-2.006728</td>\n",
       "      <td>-0.653665</td>\n",
       "      <td>...</td>\n",
       "      <td>0.0</td>\n",
       "      <td>0.770839</td>\n",
       "      <td>1.453985</td>\n",
       "      <td>0.324249</td>\n",
       "      <td>-0.181234</td>\n",
       "      <td>-0.365832</td>\n",
       "      <td>2.364790</td>\n",
       "      <td>-0.898210</td>\n",
       "      <td>0.542265</td>\n",
       "      <td>-1.841012</td>\n",
       "    </tr>\n",
       "    <tr>\n",
       "      <th>2</th>\n",
       "      <td>-1.118425</td>\n",
       "      <td>0.628808</td>\n",
       "      <td>-0.595260</td>\n",
       "      <td>0.220673</td>\n",
       "      <td>-0.111820</td>\n",
       "      <td>1.196638</td>\n",
       "      <td>-0.367435</td>\n",
       "      <td>-0.571296</td>\n",
       "      <td>-1.137645</td>\n",
       "      <td>-0.653665</td>\n",
       "      <td>...</td>\n",
       "      <td>0.0</td>\n",
       "      <td>0.770839</td>\n",
       "      <td>0.093532</td>\n",
       "      <td>0.324249</td>\n",
       "      <td>-0.854913</td>\n",
       "      <td>-0.365832</td>\n",
       "      <td>0.862533</td>\n",
       "      <td>-0.074920</td>\n",
       "      <td>0.542265</td>\n",
       "      <td>-0.447648</td>\n",
       "    </tr>\n",
       "    <tr>\n",
       "      <th>3</th>\n",
       "      <td>-1.118425</td>\n",
       "      <td>0.139188</td>\n",
       "      <td>-0.595260</td>\n",
       "      <td>0.220673</td>\n",
       "      <td>-0.111820</td>\n",
       "      <td>-0.766787</td>\n",
       "      <td>-0.367435</td>\n",
       "      <td>-0.571296</td>\n",
       "      <td>0.600519</td>\n",
       "      <td>-0.653665</td>\n",
       "      <td>...</td>\n",
       "      <td>0.0</td>\n",
       "      <td>-1.892353</td>\n",
       "      <td>0.637713</td>\n",
       "      <td>0.324249</td>\n",
       "      <td>-0.181234</td>\n",
       "      <td>-0.365832</td>\n",
       "      <td>2.364790</td>\n",
       "      <td>-0.074920</td>\n",
       "      <td>0.542265</td>\n",
       "      <td>-1.841012</td>\n",
       "    </tr>\n",
       "    <tr>\n",
       "      <th>6</th>\n",
       "      <td>0.894115</td>\n",
       "      <td>0.628808</td>\n",
       "      <td>0.524149</td>\n",
       "      <td>-1.269731</td>\n",
       "      <td>0.713694</td>\n",
       "      <td>-0.766787</td>\n",
       "      <td>-0.367435</td>\n",
       "      <td>-0.571296</td>\n",
       "      <td>0.600519</td>\n",
       "      <td>-0.653665</td>\n",
       "      <td>...</td>\n",
       "      <td>0.0</td>\n",
       "      <td>0.770839</td>\n",
       "      <td>-0.178559</td>\n",
       "      <td>0.324249</td>\n",
       "      <td>1.166126</td>\n",
       "      <td>1.605815</td>\n",
       "      <td>2.364790</td>\n",
       "      <td>-0.074920</td>\n",
       "      <td>0.542265</td>\n",
       "      <td>-0.447648</td>\n",
       "    </tr>\n",
       "    <tr>\n",
       "      <th>7</th>\n",
       "      <td>-1.118425</td>\n",
       "      <td>-1.329672</td>\n",
       "      <td>0.524149</td>\n",
       "      <td>-1.269731</td>\n",
       "      <td>0.713694</td>\n",
       "      <td>0.214926</td>\n",
       "      <td>-0.367435</td>\n",
       "      <td>-0.571296</td>\n",
       "      <td>-2.006728</td>\n",
       "      <td>-0.653665</td>\n",
       "      <td>...</td>\n",
       "      <td>0.0</td>\n",
       "      <td>0.770839</td>\n",
       "      <td>-0.178559</td>\n",
       "      <td>0.324249</td>\n",
       "      <td>2.513485</td>\n",
       "      <td>1.605815</td>\n",
       "      <td>0.862533</td>\n",
       "      <td>3.218239</td>\n",
       "      <td>0.542265</td>\n",
       "      <td>0.945715</td>\n",
       "    </tr>\n",
       "  </tbody>\n",
       "</table>\n",
       "<p>5 rows × 28 columns</p>\n",
       "</div>"
      ],
      "text/plain": [
       "       SEXO  EDUCACION_MADRE  COMPLETO_EDUCACION_MADRE  EDUCACION_PADRE  \\\n",
       "1 -1.118425         0.139188                  0.524149         0.717474   \n",
       "2 -1.118425         0.628808                 -0.595260         0.220673   \n",
       "3 -1.118425         0.139188                 -0.595260         0.220673   \n",
       "6  0.894115         0.628808                  0.524149        -1.269731   \n",
       "7 -1.118425        -1.329672                  0.524149        -1.269731   \n",
       "\n",
       "   COMPLETO_EDUCACION_PADRE  TIENE_TRABAJO_REM  OCUPACION_2  OCUPACION_3  \\\n",
       "1                  0.713694           1.196638    -0.367435    -0.571296   \n",
       "2                 -0.111820           1.196638    -0.367435    -0.571296   \n",
       "3                 -0.111820          -0.766787    -0.367435    -0.571296   \n",
       "6                  0.713694          -0.766787    -0.367435    -0.571296   \n",
       "7                  0.713694           0.214926    -0.367435    -0.571296   \n",
       "\n",
       "   HORARIO_TRABAJO  CON_QUIEN_VIVE_1  ...  ESTUDIO_INSTITUCION_SUPERIOR  \\\n",
       "1        -2.006728         -0.653665  ...                           0.0   \n",
       "2        -1.137645         -0.653665  ...                           0.0   \n",
       "3         0.600519         -0.653665  ...                           0.0   \n",
       "6         0.600519         -0.653665  ...                           0.0   \n",
       "7        -2.006728         -0.653665  ...                           0.0   \n",
       "\n",
       "   TIPO_INSTITUCION  INGRESO_PERCAPITA_GRUPO_FA  HOGAR_CONEXION_INTERNET  \\\n",
       "1          0.770839                    1.453985                 0.324249   \n",
       "2          0.770839                    0.093532                 0.324249   \n",
       "3         -1.892353                    0.637713                 0.324249   \n",
       "6          0.770839                   -0.178559                 0.324249   \n",
       "7          0.770839                   -0.178559                 0.324249   \n",
       "\n",
       "   CONEXION_INSUFICIENTE  TITULACION_CARRERA  ECONOMICAMENTE  \\\n",
       "1              -0.181234           -0.365832        2.364790   \n",
       "2              -0.854913           -0.365832        0.862533   \n",
       "3              -0.181234           -0.365832        2.364790   \n",
       "6               1.166126            1.605815        2.364790   \n",
       "7               2.513485            1.605815        0.862533   \n",
       "\n",
       "   PERSONAS_ESTUDIAN_SUP  DISPOSITIVO_1  USO_DISPOSITIVO_3  \n",
       "1              -0.898210       0.542265          -1.841012  \n",
       "2              -0.074920       0.542265          -0.447648  \n",
       "3              -0.074920       0.542265          -1.841012  \n",
       "6              -0.074920       0.542265          -0.447648  \n",
       "7               3.218239       0.542265           0.945715  \n",
       "\n",
       "[5 rows x 28 columns]"
      ]
     },
     "execution_count": 13,
     "metadata": {},
     "output_type": "execute_result"
    }
   ],
   "source": [
    "# Initialize the StandardScaler\n",
    "scaler = StandardScaler()\n",
    "\n",
    "# Standardize numerical features\n",
    "df_data_encoded[numerical_columns] = scaler.fit_transform(X[numerical_columns])\n",
    "\n",
    "# Display the scaled DataFrame\n",
    "df_data_encoded.head()"
   ]
  },
  {
   "cell_type": "markdown",
   "metadata": {
    "id": "addnKxwRrq3W"
   },
   "source": [
    "**1.** **Reducción de dimensionalidad**: utiliza PCA para reducir la dimensionalidad de los datos.\n",
    "\n",
    "**2.** **Agrupación**: Aplica la agrupación K-Means para agrupar los datos en grupos.\n",
    "\n",
    "**3.** **Evaluación**: Calcula la puntuación de silueta para evaluar la calidad de la agrupación.\n",
    "\n",
    "**4.** **Interpretación** y Análisis: Analiza y muestra las características de cada cluster."
   ]
  },
  {
   "cell_type": "markdown",
   "metadata": {
    "id": "H5MXXk2Iqy6t"
   },
   "source": [
    "# **Reducción de dimensionalidad**\n",
    "## PCA (Principal Component Analysis)"
   ]
  },
  {
   "cell_type": "markdown",
   "metadata": {
    "id": "X4LFLDT2z1Uh"
   },
   "source": [
    "**Reducción de dimensionalidad:** Este código realiza PCA en el conjunto de datos codificados, reduciendo su dimensionalidad al número especificado de componentes (n_componentes). El conjunto de datos transformado (X_pca) contiene los componentes principales que capturan la variación más significativa en los datos originales. Esta reducción de dimensionalidad es útil para visualizar y analizar datos de alta dimensión o mejorar la eficiencia de los algoritmos de aprendizaje automático."
   ]
  },
  {
   "cell_type": "code",
   "execution_count": 14,
   "metadata": {
    "colab": {
     "base_uri": "https://localhost:8080/"
    },
    "executionInfo": {
     "elapsed": 36,
     "status": "ok",
     "timestamp": 1701627174379,
     "user": {
      "displayName": "Nouman Irshad",
      "userId": "01147828697351460386"
     },
     "user_tz": 480
    },
    "id": "fdvRgqquaG_v",
    "outputId": "6f649984-58ff-42c4-b6f9-fe587c121a10"
   },
   "outputs": [
    {
     "data": {
      "text/plain": [
       "array([[ 2.80672141, -1.58652744, -0.74600613, -0.95562547, -2.12751606],\n",
       "       [ 1.07765296, -0.34655891,  0.44344006,  0.19718697, -1.45663215],\n",
       "       [ 2.40511779,  0.10030521,  0.0848818 , -0.54877006, -0.31821001],\n",
       "       ...,\n",
       "       [ 2.27582757,  0.3899841 , -0.75873522, -2.13261378, -1.73812812],\n",
       "       [-0.89702059,  0.30149308,  0.40538165,  1.477601  , -0.77812183],\n",
       "       [ 2.98736211, -0.2645038 ,  1.17956537,  0.98182214, -0.50630616]])"
      ]
     },
     "execution_count": 14,
     "metadata": {},
     "output_type": "execute_result"
    }
   ],
   "source": [
    "# Apply PCA\n",
    "n_components =  5  # Number of components to retain\n",
    "pca = PCA(n_components=n_components)\n",
    "X_pca = pca.fit_transform(df_data_encoded)\n",
    "X_pca"
   ]
  },
  {
   "cell_type": "code",
   "execution_count": 15,
   "metadata": {
    "colab": {
     "base_uri": "https://localhost:8080/",
     "height": 424
    },
    "executionInfo": {
     "elapsed": 34,
     "status": "ok",
     "timestamp": 1701627174380,
     "user": {
      "displayName": "Nouman Irshad",
      "userId": "01147828697351460386"
     },
     "user_tz": 480
    },
    "id": "C3Q26mSNP28R",
    "outputId": "7fb577f9-a98f-4849-e471-b7e06b2e9694"
   },
   "outputs": [
    {
     "data": {
      "text/html": [
       "<div>\n",
       "<style scoped>\n",
       "    .dataframe tbody tr th:only-of-type {\n",
       "        vertical-align: middle;\n",
       "    }\n",
       "\n",
       "    .dataframe tbody tr th {\n",
       "        vertical-align: top;\n",
       "    }\n",
       "\n",
       "    .dataframe thead th {\n",
       "        text-align: right;\n",
       "    }\n",
       "</style>\n",
       "<table border=\"1\" class=\"dataframe\">\n",
       "  <thead>\n",
       "    <tr style=\"text-align: right;\">\n",
       "      <th></th>\n",
       "      <th>PC1</th>\n",
       "      <th>PC2</th>\n",
       "      <th>PC3</th>\n",
       "      <th>PC4</th>\n",
       "      <th>PC5</th>\n",
       "    </tr>\n",
       "  </thead>\n",
       "  <tbody>\n",
       "    <tr>\n",
       "      <th>0</th>\n",
       "      <td>2.806721</td>\n",
       "      <td>-1.586527</td>\n",
       "      <td>-0.746006</td>\n",
       "      <td>-0.955625</td>\n",
       "      <td>-2.127516</td>\n",
       "    </tr>\n",
       "    <tr>\n",
       "      <th>1</th>\n",
       "      <td>1.077653</td>\n",
       "      <td>-0.346559</td>\n",
       "      <td>0.443440</td>\n",
       "      <td>0.197187</td>\n",
       "      <td>-1.456632</td>\n",
       "    </tr>\n",
       "    <tr>\n",
       "      <th>2</th>\n",
       "      <td>2.405118</td>\n",
       "      <td>0.100305</td>\n",
       "      <td>0.084882</td>\n",
       "      <td>-0.548770</td>\n",
       "      <td>-0.318210</td>\n",
       "    </tr>\n",
       "    <tr>\n",
       "      <th>3</th>\n",
       "      <td>1.772175</td>\n",
       "      <td>-0.990110</td>\n",
       "      <td>-0.933608</td>\n",
       "      <td>-1.883062</td>\n",
       "      <td>-0.058060</td>\n",
       "    </tr>\n",
       "    <tr>\n",
       "      <th>4</th>\n",
       "      <td>1.600332</td>\n",
       "      <td>-2.197068</td>\n",
       "      <td>0.526265</td>\n",
       "      <td>-1.748304</td>\n",
       "      <td>-0.168947</td>\n",
       "    </tr>\n",
       "    <tr>\n",
       "      <th>...</th>\n",
       "      <td>...</td>\n",
       "      <td>...</td>\n",
       "      <td>...</td>\n",
       "      <td>...</td>\n",
       "      <td>...</td>\n",
       "    </tr>\n",
       "    <tr>\n",
       "      <th>29621</th>\n",
       "      <td>-1.592296</td>\n",
       "      <td>-0.135153</td>\n",
       "      <td>0.540862</td>\n",
       "      <td>0.167549</td>\n",
       "      <td>-0.388588</td>\n",
       "    </tr>\n",
       "    <tr>\n",
       "      <th>29622</th>\n",
       "      <td>1.249475</td>\n",
       "      <td>0.729137</td>\n",
       "      <td>1.031952</td>\n",
       "      <td>-0.802682</td>\n",
       "      <td>2.706050</td>\n",
       "    </tr>\n",
       "    <tr>\n",
       "      <th>29623</th>\n",
       "      <td>2.275828</td>\n",
       "      <td>0.389984</td>\n",
       "      <td>-0.758735</td>\n",
       "      <td>-2.132614</td>\n",
       "      <td>-1.738128</td>\n",
       "    </tr>\n",
       "    <tr>\n",
       "      <th>29624</th>\n",
       "      <td>-0.897021</td>\n",
       "      <td>0.301493</td>\n",
       "      <td>0.405382</td>\n",
       "      <td>1.477601</td>\n",
       "      <td>-0.778122</td>\n",
       "    </tr>\n",
       "    <tr>\n",
       "      <th>29625</th>\n",
       "      <td>2.987362</td>\n",
       "      <td>-0.264504</td>\n",
       "      <td>1.179565</td>\n",
       "      <td>0.981822</td>\n",
       "      <td>-0.506306</td>\n",
       "    </tr>\n",
       "  </tbody>\n",
       "</table>\n",
       "<p>29626 rows × 5 columns</p>\n",
       "</div>"
      ],
      "text/plain": [
       "            PC1       PC2       PC3       PC4       PC5\n",
       "0      2.806721 -1.586527 -0.746006 -0.955625 -2.127516\n",
       "1      1.077653 -0.346559  0.443440  0.197187 -1.456632\n",
       "2      2.405118  0.100305  0.084882 -0.548770 -0.318210\n",
       "3      1.772175 -0.990110 -0.933608 -1.883062 -0.058060\n",
       "4      1.600332 -2.197068  0.526265 -1.748304 -0.168947\n",
       "...         ...       ...       ...       ...       ...\n",
       "29621 -1.592296 -0.135153  0.540862  0.167549 -0.388588\n",
       "29622  1.249475  0.729137  1.031952 -0.802682  2.706050\n",
       "29623  2.275828  0.389984 -0.758735 -2.132614 -1.738128\n",
       "29624 -0.897021  0.301493  0.405382  1.477601 -0.778122\n",
       "29625  2.987362 -0.264504  1.179565  0.981822 -0.506306\n",
       "\n",
       "[29626 rows x 5 columns]"
      ]
     },
     "execution_count": 15,
     "metadata": {},
     "output_type": "execute_result"
    }
   ],
   "source": [
    "# Create a DataFrame with PCA components\n",
    "pca_columns = [f\"PC{i+1}\" for i in range(n_components)]\n",
    "X_pca_df = pd.DataFrame(data=X_pca, columns=pca_columns)\n",
    "X_pca_df"
   ]
  },
  {
   "cell_type": "code",
   "execution_count": 16,
   "metadata": {
    "colab": {
     "base_uri": "https://localhost:8080/"
    },
    "executionInfo": {
     "elapsed": 32,
     "status": "ok",
     "timestamp": 1701627174381,
     "user": {
      "displayName": "Nouman Irshad",
      "userId": "01147828697351460386"
     },
     "user_tz": 480
    },
    "id": "Wb57oEQgbQA_",
    "outputId": "d9cd1426-9814-49be-fa28-8c24c81c6029"
   },
   "outputs": [
    {
     "name": "stdout",
     "output_type": "stream",
     "text": [
      "Explained Variance Ratio:\n",
      "[0.12904084 0.08387289 0.06253829 0.0569404  0.04908279]\n"
     ]
    }
   ],
   "source": [
    "# Print the explained variance ratio for each component\n",
    "print(\"Explained Variance Ratio:\")\n",
    "print(pca.explained_variance_ratio_)"
   ]
  },
  {
   "cell_type": "markdown",
   "metadata": {
    "id": "rjAyhyp9tfBj"
   },
   "source": [
    "# **Clustering Analysis**"
   ]
  },
  {
   "cell_type": "markdown",
   "metadata": {
    "id": "_1txjfiqyMRD"
   },
   "source": [
    "1. **Clustering:** Este código realiza una agrupación de K-Means en el conjunto de datos cuya dimensionalidad se ha reducido mediante PCA. Su objetivo es agrupar puntos de datos similares en grupos, y el número de grupos se especifica mediante el parámetro n_clusters."
   ]
  },
  {
   "cell_type": "code",
   "execution_count": 17,
   "metadata": {
    "colab": {
     "base_uri": "https://localhost:8080/"
    },
    "executionInfo": {
     "elapsed": 1206,
     "status": "ok",
     "timestamp": 1701627175559,
     "user": {
      "displayName": "Nouman Irshad",
      "userId": "01147828697351460386"
     },
     "user_tz": 480
    },
    "id": "zzs0WUyfqSwz",
    "outputId": "b1c6c3c7-d94b-470a-ae18-ca3dc92ab64d"
   },
   "outputs": [
    {
     "name": "stderr",
     "output_type": "stream",
     "text": [
      "C:\\Users\\Sebastian Antunez N\\AppData\\Local\\Programs\\Python\\Python311\\Lib\\site-packages\\sklearn\\cluster\\_kmeans.py:1416: FutureWarning: The default value of `n_init` will change from 10 to 'auto' in 1.4. Set the value of `n_init` explicitly to suppress the warning\n",
      "  super()._check_params_vs_input(X, default_n_init=10)\n"
     ]
    },
    {
     "data": {
      "text/plain": [
       "array([0, 0, 0, ..., 0, 1, 0])"
      ]
     },
     "execution_count": 17,
     "metadata": {},
     "output_type": "execute_result"
    }
   ],
   "source": [
    "# Clustering: Applying K-Means clustering algorithm\n",
    "n_clusters = 3  # Number of clusters\n",
    "kmeans = KMeans(n_clusters=n_clusters, random_state=42)\n",
    "clusters = kmeans.fit_predict(X_pca)\n",
    "clusters"
   ]
  },
  {
   "cell_type": "markdown",
   "metadata": {
    "id": "zm9_zNaXyiFm"
   },
   "source": [
    "2. **Evaluación:** Este código evalúa la calidad de los resultados de agrupación utilizando Silhouette Score, que es una métrica comúnmente utilizada para evaluar qué tan bien definidos están los grupos.\n",
    "\n",
    "Este fragmento de código realiza una evaluación de los resultados de agrupación obtenidos de K-Means mediante el cálculo e impresión de Silhouette Score.\n",
    "\n",
    "\n",
    "\n",
    "\n",
    "\n",
    "\n"
   ]
  },
  {
   "cell_type": "code",
   "execution_count": 18,
   "metadata": {
    "colab": {
     "base_uri": "https://localhost:8080/"
    },
    "executionInfo": {
     "elapsed": 13685,
     "status": "ok",
     "timestamp": 1701627189239,
     "user": {
      "displayName": "Nouman Irshad",
      "userId": "01147828697351460386"
     },
     "user_tz": 480
    },
    "id": "7PiQuLYiqbgm",
    "outputId": "24070d8e-5e80-41e4-f302-79da70cd5469"
   },
   "outputs": [
    {
     "name": "stdout",
     "output_type": "stream",
     "text": [
      "Silhouette Score: 0.28835270931671075\n"
     ]
    }
   ],
   "source": [
    "# Evaluation: Calculate Silhouette Score for clustering quality\n",
    "silhouette_avg = silhouette_score(X_pca, clusters)\n",
    "print(f\"Silhouette Score: {silhouette_avg}\")"
   ]
  },
  {
   "cell_type": "markdown",
   "metadata": {
    "id": "Qb5-3w38t_O7"
   },
   "source": [
    "# **Interpretation and Analysis**"
   ]
  },
  {
   "cell_type": "markdown",
   "metadata": {
    "id": "g771YSKt3UmE"
   },
   "source": [
    "**Reduccion de dimensionalidad** Este código agrega etiquetas de conglomerados al conjunto de datos original, calcula los valores medios de las características de cada conglomerado y luego imprime un resumen de las características de cada conglomerado. Es un paso común en el análisis de agrupamiento obtener información sobre los diferentes grupos identificados por el algoritmo.\n",
    "\n",
    "\n",
    "\n",
    "\n"
   ]
  },
  {
   "cell_type": "code",
   "execution_count": 19,
   "metadata": {
    "colab": {
     "base_uri": "https://localhost:8080/",
     "height": 351
    },
    "executionInfo": {
     "elapsed": 17,
     "status": "ok",
     "timestamp": 1701627189240,
     "user": {
      "displayName": "Nouman Irshad",
      "userId": "01147828697351460386"
     },
     "user_tz": 480
    },
    "id": "mDDIKU6uqbj1",
    "outputId": "378cc94d-10c8-431b-cb56-27a0e0ce1921"
   },
   "outputs": [
    {
     "name": "stdout",
     "output_type": "stream",
     "text": [
      "Cluster Characteristics:\n"
     ]
    },
    {
     "name": "stderr",
     "output_type": "stream",
     "text": [
      "C:\\Users\\Sebastian Antunez N\\AppData\\Local\\Temp\\ipykernel_17392\\2253701256.py:2: SettingWithCopyWarning: \n",
      "A value is trying to be set on a copy of a slice from a DataFrame.\n",
      "Try using .loc[row_indexer,col_indexer] = value instead\n",
      "\n",
      "See the caveats in the documentation: https://pandas.pydata.org/pandas-docs/stable/user_guide/indexing.html#returning-a-view-versus-a-copy\n",
      "  data['Cluster'] = clusters\n"
     ]
    },
    {
     "data": {
      "text/html": [
       "<div>\n",
       "<style scoped>\n",
       "    .dataframe tbody tr th:only-of-type {\n",
       "        vertical-align: middle;\n",
       "    }\n",
       "\n",
       "    .dataframe tbody tr th {\n",
       "        vertical-align: top;\n",
       "    }\n",
       "\n",
       "    .dataframe thead th {\n",
       "        text-align: right;\n",
       "    }\n",
       "</style>\n",
       "<table border=\"1\" class=\"dataframe\">\n",
       "  <thead>\n",
       "    <tr style=\"text-align: right;\">\n",
       "      <th></th>\n",
       "      <th>SEXO</th>\n",
       "      <th>TIENE_TRABAJO_REM</th>\n",
       "      <th>HORARIO_TRABAJO</th>\n",
       "      <th>ECONOMICAMENTE</th>\n",
       "      <th>PERSONAS_ESTUDIAN_SUP</th>\n",
       "    </tr>\n",
       "    <tr>\n",
       "      <th>Cluster</th>\n",
       "      <th></th>\n",
       "      <th></th>\n",
       "      <th></th>\n",
       "      <th></th>\n",
       "      <th></th>\n",
       "    </tr>\n",
       "  </thead>\n",
       "  <tbody>\n",
       "    <tr>\n",
       "      <th>0</th>\n",
       "      <td>1.604767</td>\n",
       "      <td>2.255888</td>\n",
       "      <td>4.528291</td>\n",
       "      <td>3.168152</td>\n",
       "      <td>19.407056</td>\n",
       "    </tr>\n",
       "    <tr>\n",
       "      <th>1</th>\n",
       "      <td>1.532666</td>\n",
       "      <td>0.547002</td>\n",
       "      <td>8.004209</td>\n",
       "      <td>1.194717</td>\n",
       "      <td>9.918746</td>\n",
       "    </tr>\n",
       "    <tr>\n",
       "      <th>2</th>\n",
       "      <td>1.499612</td>\n",
       "      <td>1.817547</td>\n",
       "      <td>7.735637</td>\n",
       "      <td>2.541149</td>\n",
       "      <td>27.347438</td>\n",
       "    </tr>\n",
       "  </tbody>\n",
       "</table>\n",
       "</div>"
      ],
      "text/plain": [
       "             SEXO  TIENE_TRABAJO_REM  HORARIO_TRABAJO  ECONOMICAMENTE  \\\n",
       "Cluster                                                                 \n",
       "0        1.604767           2.255888         4.528291        3.168152   \n",
       "1        1.532666           0.547002         8.004209        1.194717   \n",
       "2        1.499612           1.817547         7.735637        2.541149   \n",
       "\n",
       "         PERSONAS_ESTUDIAN_SUP  \n",
       "Cluster                         \n",
       "0                    19.407056  \n",
       "1                     9.918746  \n",
       "2                    27.347438  "
      ]
     },
     "execution_count": 19,
     "metadata": {},
     "output_type": "execute_result"
    }
   ],
   "source": [
    "# Add cluster labels to the dataset\n",
    "data['Cluster'] = clusters\n",
    "\n",
    "# Interpretation and Analysis: Analyze clusters' characteristics\n",
    "cluster_summary = data.groupby('Cluster').mean()  # Calculate mean values for each cluster\n",
    "\n",
    "# Display the summary of each cluster's characteristics\n",
    "print(\"Cluster Characteristics:\")\n",
    "cluster_summary"
   ]
  },
  {
   "cell_type": "markdown",
   "metadata": {
    "id": "FdIhdq7NyzbS"
   },
   "source": [
    "# **Scatter Plot**"
   ]
  },
  {
   "cell_type": "markdown",
   "metadata": {
    "id": "cighgqGHywT7"
   },
   "source": [
    "Este código creará un diagrama de dispersión donde cada punto de datos se representa según los niveles educativos de la madre y el padre, con diferentes colores que indican diferentes grupos."
   ]
  },
  {
   "cell_type": "code",
   "execution_count": 20,
   "metadata": {
    "colab": {
     "base_uri": "https://localhost:8080/",
     "height": 564
    },
    "executionInfo": {
     "elapsed": 3628,
     "status": "ok",
     "timestamp": 1701627192857,
     "user": {
      "displayName": "Nouman Irshad",
      "userId": "01147828697351460386"
     },
     "user_tz": 480
    },
    "id": "0wnLQZxyySyt",
    "outputId": "c6106a8b-e502-40bb-c92f-a22223a55a8c"
   },
   "outputs": [
    {
     "data": {
      "image/png": "[encoded data removed]",
      "text/plain": [
       "<Figure size 800x600 with 1 Axes>"
      ]
     },
     "metadata": {},
     "output_type": "display_data"
    }
   ],
   "source": [
    "# Visualizing Clusters with Scatter Plot\n",
    "plt.figure(figsize=(8, 6))\n",
    "sns.scatterplot(x='EDUCACION_MADRE', y='EDUCACION_PADRE', hue='Cluster', data=data, palette='viridis', legend='full')\n",
    "plt.title('Scatter Plot of Clusters')\n",
    "plt.xlabel('Nivel de Educacion Madre')\n",
    "plt.ylabel('Nivel de Educacion Padre')\n",
    "plt.show()"
   ]
  },
  {
   "cell_type": "markdown",
   "metadata": {
    "id": "V9ax1-p3u3qi"
   },
   "source": [
    "# **Plotting Cluster Characteristics**"
   ]
  },
  {
   "cell_type": "code",
   "execution_count": 21,
   "metadata": {
    "colab": {
     "base_uri": "https://localhost:8080/",
     "height": 607
    },
    "executionInfo": {
     "elapsed": 1251,
     "status": "ok",
     "timestamp": 1701627194078,
     "user": {
      "displayName": "Nouman Irshad",
      "userId": "01147828697351460386"
     },
     "user_tz": 480
    },
    "id": "XDGtvtYsutHw",
    "outputId": "3bdc0d29-6f82-40e5-d488-f0981bb247db"
   },
   "outputs": [
    {
     "data": {
      "image/png": "[encoded data removed]",
      "text/plain": [
       "<Figure size 1000x600 with 1 Axes>"
      ]
     },
     "metadata": {},
     "output_type": "display_data"
    }
   ],
   "source": [
    "# Define color palette for clusters\n",
    "colors = ['#FF9999', '#66B2FF', '#99FF99']  # Add more colors if you have more clusters\n",
    "\n",
    "# Plotting Cluster Characteristics with assigned colors\n",
    "plt.figure(figsize=(10, 6))\n",
    "sns.barplot(x=cluster_summary.columns, y=cluster_summary.iloc[0], label='Cluster 0', alpha=0.7, color=colors[0])\n",
    "sns.barplot(x=cluster_summary.columns, y=cluster_summary.iloc[1], label='Cluster 1', alpha=0.7, color=colors[1])\n",
    "sns.barplot(x=cluster_summary.columns, y=cluster_summary.iloc[2], label='Cluster 2', alpha=0.7, color=colors[2])\n",
    "\n",
    "plt.xlabel('Features')\n",
    "plt.ylabel('Average Values')\n",
    "plt.title('Cluster Characteristics')\n",
    "plt.legend()\n",
    "plt.xticks(rotation=45)\n",
    "plt.tight_layout()\n",
    "plt.show()"
   ]
  },
  {
   "cell_type": "markdown",
   "metadata": {
    "id": "6LhDfztx6a-K"
   },
   "source": [
    "# **Silhouette Score:**\n",
    "\n",
    "\n",
    "* Silhouette Score Evalúa la calidad de la agrupación, indicando qué tan bien definidos están los grupos.\n",
    "\n",
    "* Una puntuación más cercana a 1 sugiere conglomerados bien separados, mientras que una puntuación más cercana a 0 indica conglomerados superpuestos.\n",
    "\n",
    "* En este caso, una puntuación de silueta de 0,2884 indica una separación moderada entre los grupos. Implica que los grupos muestran algunas características distintivas pero pueden tener áreas de superposición.\n",
    "\n",
    "# **Características del cluster:**\n",
    "\n",
    "* La tabla resumen presenta los valores promedio de características específicas para cada cluter.\n",
    "* El análisis de las características de los grupos ayuda a comprender los rasgos promedio de los diferentes grupos de estudiantes.\n",
    "* Por ejemplo, mirando '**SEXO**', '**TIENE_TRABAJO_REM**', '**HORARIO_TRABAJO**', '**ECONOMICAMENTE**' y '**PERSONAS_ESTUDIAN_SUP**' en todos los cluster:\n",
    "\n",
    "* **Cluster 0:**\n",
    "\n",
    "* Un promedio más alto '**PERSONAS_ESTUDIAN_SUP**' podría sugerir grupos de estudio más grandes dentro de este grupo.\n",
    "* Condiciones económicas moderadamente estables ('**ECONOMICAMENTE**') y '**HORARIO_TRABAJO**' (horas de trabajo) podrían indicar un ambiente moderado para la educación y el trabajo.\n",
    "\n",
    "\n",
    "* **Cluster 1:**\n",
    "\n",
    "* Valores más bajos de '**PERSONAS_ESTUDIAN_SUP**' y 'ECONOMICAMENTE' podrían indicar grupos de estudio más pequeños y menos estabilidad económica.\n",
    "* Los valores más bajos de '**HORARIO_TRABAJO**' pueden sugerir menos horas de trabajo en promedio.\n",
    "\n",
    "\n",
    "* **Cluster 2:**\n",
    "\n",
    "* Este cluster parece similar al Grupo 0 en términos de '**PERSONAS_ESTUDIAN_SUP**' pero tiene una estabilidad económica ligeramente menor ('**ECONOMICAMENTE**') y horas de trabajo potencialmente más largas ('**HORARIO_TRABAJO**').\n",
    "# **Impacto en la finalización del título:**\n",
    "* Estos cluster representan grupos de estudiantes con características promedio distintas.\n",
    "* La información ayuda a comprender las diferentes circunstancias y entornos que los estudiantes podrían enfrentar mientras cursan sus estudios.\n",
    "* Por ejemplo, grupos de estudio más grandes y una mejor estabilidad económica en ciertos grupos podrían tener un impacto positivo en la finalización de estudios de los estudiantes en comparación con grupos con menos recursos o estabilidad.\n",
    "# **Importancia de las características del grupo:**\n",
    "* Comprender estos grupos puede ayudar a ofrecer apoyo o intervenciones personalizadas.\n",
    "* Por ejemplo, proporcionar recursos adicionales o apoyo a grupos de estudio más pequeños (Cluster 1) o abordar los desafíos económicos para los estudiantes en ciertos grupos puede mejorar potencialmente sus posibilidades de completar sus títulos.\n",
    "# **Comentarios Finales:**\n",
    "* El resultado brinda información sobre las características promedio de los cluster de estudiantes, proporcionando una base para intervenciones específicas.\n",
    "* Si bien estos cluster brindan comprensión, se necesitan análisis adicionales y experiencia en el dominio para determinar intervenciones o estrategias específicas que puedan afectar la probabilidad de que un estudiante complete su título dentro de estos entornos diversos."
   ]
  },
  {
   "cell_type": "markdown",
   "metadata": {
    "id": "R7fpz78q53cb"
   },
   "source": [
    "# **TITULACION_CARRERA vs PERSONAS_ESTUDIAN_SUP across Clusters**"
   ]
  },
  {
   "cell_type": "code",
   "execution_count": 22,
   "metadata": {
    "colab": {
     "base_uri": "https://localhost:8080/",
     "height": 723
    },
    "executionInfo": {
     "elapsed": 6899,
     "status": "ok",
     "timestamp": 1701627350564,
     "user": {
      "displayName": "Nouman Irshad",
      "userId": "01147828697351460386"
     },
     "user_tz": 480
    },
    "id": "3SiNfW1Y4kRz",
    "outputId": "315ac0b6-a646-4f2c-ad55-9dbb015b4979"
   },
   "outputs": [
    {
     "name": "stderr",
     "output_type": "stream",
     "text": [
      "C:\\Users\\Sebastian Antunez N\\AppData\\Local\\Temp\\ipykernel_17392\\626555102.py:7: SettingWithCopyWarning: \n",
      "A value is trying to be set on a copy of a slice from a DataFrame.\n",
      "Try using .loc[row_indexer,col_indexer] = value instead\n",
      "\n",
      "See the caveats in the documentation: https://pandas.pydata.org/pandas-docs/stable/user_guide/indexing.html#returning-a-view-versus-a-copy\n",
      "  data['Cluster'] = clusters\n"
     ]
    },
    {
     "data": {
      "image/png": "[encoded data removed]",
      "text/plain": [
       "<Figure size 1000x500 with 1 Axes>"
      ]
     },
     "metadata": {},
     "output_type": "display_data"
    }
   ],
   "source": [
    "import seaborn as sns\n",
    "import matplotlib.pyplot as plt\n",
    "\n",
    "# Assuming 'TITULACION_CARRERA', 'PERSONAS_ESTUDIAN_SUP', 'TIENE_TRABAJO_REM', 'HORARIO_TRABAJO', 'ECONOMICAMENTE', 'ACTIVIDAD_JEFE_FAMILIA' columns are present in your dataset\n",
    "\n",
    "# Add cluster labels to the dataset\n",
    "data['Cluster'] = clusters\n",
    "\n",
    "# Selecting columns of interest\n",
    "columns_of_interest = ['TITULACION_CARRERA', 'PERSONAS_ESTUDIAN_SUP', 'TIENE_TRABAJO_REM', 'HORARIO_TRABAJO', 'ECONOMICAMENTE', 'Cluster']\n",
    "\n",
    "# Filtering data for relevant columns\n",
    "cluster_data = data[columns_of_interest]\n",
    "\n",
    "# Grouping by Cluster and calculating mean values\n",
    "cluster_means = cluster_data.groupby('Cluster').mean()\n",
    "\n",
    "# Plotting TITULACION_CARRERA vs PERSONAS_ESTUDIAN_SUP\n",
    "plt.figure(figsize=(10, 5))\n",
    "sns.scatterplot(x='TITULACION_CARRERA', y='PERSONAS_ESTUDIAN_SUP', hue='Cluster', data=data, palette='viridis', legend='full')\n",
    "plt.title('TITULACION_CARRERA vs PERSONAS_ESTUDIAN_SUP ')\n",
    "plt.xlabel('Promedio TITULACION_CARRERA')\n",
    "plt.ylabel('Promedio PERSONAS_ESTUDIAN_SUP')\n",
    "plt.show()\n"
   ]
  },
  {
   "cell_type": "code",
   "execution_count": 23,
   "metadata": {
    "colab": {
     "base_uri": "https://localhost:8080/",
     "height": 175
    },
    "executionInfo": {
     "elapsed": 674,
     "status": "ok",
     "timestamp": 1701627400789,
     "user": {
      "displayName": "Nouman Irshad",
      "userId": "01147828697351460386"
     },
     "user_tz": 480
    },
    "id": "EZ7xlpRO5YT4",
    "outputId": "66cc4ebf-451e-49cf-a494-3b6d5f2414f3"
   },
   "outputs": [
    {
     "data": {
      "text/html": [
       "<div>\n",
       "<style scoped>\n",
       "    .dataframe tbody tr th:only-of-type {\n",
       "        vertical-align: middle;\n",
       "    }\n",
       "\n",
       "    .dataframe tbody tr th {\n",
       "        vertical-align: top;\n",
       "    }\n",
       "\n",
       "    .dataframe thead th {\n",
       "        text-align: right;\n",
       "    }\n",
       "</style>\n",
       "<table border=\"1\" class=\"dataframe\">\n",
       "  <thead>\n",
       "    <tr style=\"text-align: right;\">\n",
       "      <th></th>\n",
       "      <th>PERSONAS_ESTUDIAN_SUP</th>\n",
       "      <th>TIENE_TRABAJO_REM</th>\n",
       "      <th>HORARIO_TRABAJO</th>\n",
       "      <th>ECONOMICAMENTE</th>\n",
       "    </tr>\n",
       "    <tr>\n",
       "      <th>Cluster</th>\n",
       "      <th></th>\n",
       "      <th></th>\n",
       "      <th></th>\n",
       "      <th></th>\n",
       "    </tr>\n",
       "  </thead>\n",
       "  <tbody>\n",
       "    <tr>\n",
       "      <th>0</th>\n",
       "      <td>19.407056</td>\n",
       "      <td>2.255888</td>\n",
       "      <td>4.528291</td>\n",
       "      <td>3.168152</td>\n",
       "    </tr>\n",
       "    <tr>\n",
       "      <th>1</th>\n",
       "      <td>9.918746</td>\n",
       "      <td>0.547002</td>\n",
       "      <td>8.004209</td>\n",
       "      <td>1.194717</td>\n",
       "    </tr>\n",
       "    <tr>\n",
       "      <th>2</th>\n",
       "      <td>27.347438</td>\n",
       "      <td>1.817547</td>\n",
       "      <td>7.735637</td>\n",
       "      <td>2.541149</td>\n",
       "    </tr>\n",
       "  </tbody>\n",
       "</table>\n",
       "</div>"
      ],
      "text/plain": [
       "         PERSONAS_ESTUDIAN_SUP  TIENE_TRABAJO_REM  HORARIO_TRABAJO  \\\n",
       "Cluster                                                              \n",
       "0                    19.407056           2.255888         4.528291   \n",
       "1                     9.918746           0.547002         8.004209   \n",
       "2                    27.347438           1.817547         7.735637   \n",
       "\n",
       "         ECONOMICAMENTE  \n",
       "Cluster                  \n",
       "0              3.168152  \n",
       "1              1.194717  \n",
       "2              2.541149  "
      ]
     },
     "execution_count": 23,
     "metadata": {},
     "output_type": "execute_result"
    }
   ],
   "source": [
    "cluster_means"
   ]
  },
  {
   "cell_type": "markdown",
   "metadata": {
    "id": "NIWEkK4XGeDZ"
   },
   "source": [
    "# **Características clave en todos los Cluster:**\n",
    "**1.** **'PERSONAS_ESTUDIAN_SUP' (Número de personas que estudian juntas):**\n",
    "\n",
    "* El cluster 1 tiene el promedio más alto 'PERSONAS_ESTUDIAN_SUP' (27,27), seguido por el cluster 0 (19,44) y luego el cluster 2 (9,92).\n",
    "* Esto sugiere que grupos de estudio más grandes podrían influir positivamente en la finalización de títulos, con promedios más altos en los Clustr 1 y 0.\n",
    "\n",
    "**2.** **'TIENE_TRABAJO_REM' (Tiene trabajo regular):**\n",
    "\n",
    "* El cluster 2 muestra el promedio más bajo ('TIENE_TRABAJO_REM' = 0,55), seguido por los cluster 0 (2,25) y 1 (1,81).\n",
    "* Los estudiantes con menos trabajos regulares ('TIENE_TRABAJO_REM') podrían ser más frecuentes en el Cluster 2, lo que podría afectar su enfoque en los estudios.\n",
    "\n",
    "**3.** **'HORARIO_TRABAJO' (Horario de Trabajo):**\n",
    "\n",
    "* El cluster 0 presenta el promedio más bajo ('HORARIO_TRABAJO' = 4,54), seguido del cluster 1 (7,73) y el cluster 2 (7,99).\n",
    "* Los estudiantes del Cluster 0 podrían tener comparativamente menos horas de trabajo, lo que potencialmente les brindaría más tiempo para estudiar.\n",
    "\n",
    "**4.** **'ECONOMICAMENTE' (Estabilidad Economica):**\n",
    "\n",
    "* El cluster 1 muestra el promedio más alto ('ECONOMICAMENTE' = 2,52), seguido por el cluster 0 (3,17) y el cluster 2 (1,20).\n",
    "* Una mayor estabilidad económica podría prevalecer en el Cluster 1, lo que podría afectar positivamente la capacidad de los estudiantes para concentrarse en los estudios.\n",
    "\n",
    "# **Implicaciones para la finalización del título:**\n",
    "* Grupos de estudio más grandes ('PERSONAS_ESTUDIAN_SUP') y horas de trabajo potencialmente más bajas ('HORARIO_TRABAJO') en los Cluster 0 y 1 podrían contribuir positivamente a la finalización de la carrera.\n",
    "* Por el contrario, en el Cluster 2, el menor tamaño de los grupos de estudio y los posibles desafíos económicos podrían obstaculizar las tasas de finalización de títulos de los estudiantes.\n",
    "# **Enfoque para mejorar:**\n",
    "* Para mejorar las tasas de finalización de títulos, podría ser crucial centrarse en la creación de estructuras de apoyo para grupos de estudio más pequeños, abordar los desafíos económicos y gestionar el equilibrio entre el trabajo y el estudio, especialmente para los estudiantes del Grupo 2 que podrían enfrentar obstáculos más importantes."
   ]
  }
 ],
 "metadata": {
  "accelerator": "GPU",
  "colab": {
   "authorship_tag": "ABX9TyPaYSRWTnAis6Od45GiT8t/",
   "gpuType": "T4",
   "provenance": []
  },
  "kernelspec": {
   "display_name": "Python 3 (ipykernel)",
   "language": "python",
   "name": "python3"
  },
  "language_info": {
   "codemirror_mode": {
    "name": "ipython",
    "version": 3
   },
   "file_extension": ".py",
   "mimetype": "text/x-python",
   "name": "python",
   "nbconvert_exporter": "python",
   "pygments_lexer": "ipython3",
   "version": "3.11.3"
  }
 },
 "nbformat": 4,
 "nbformat_minor": 4
}
